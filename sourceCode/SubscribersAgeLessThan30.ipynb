{
 "cells": [
  {
   "cell_type": "code",
   "execution_count": 0,
   "metadata": {
    "application/vnd.databricks.v1+cell": {
     "cellMetadata": {
      "byteLimit": 2048000,
      "rowLimit": 10000
     },
     "inputWidgets": {},
     "nuid": "047a3061-77ab-46d8-a574-e55abe3585a0",
     "showTitle": false,
     "title": ""
    }
   },
   "outputs": [],
   "source": [
    "# Which disease has a maximum number of claims.\n",
    "spark.sparkContext._jsc.hadoopConfiguration().set(\"fs.s3a.access.key\", \"AK\")\n",
    "spark.sparkContext._jsc.hadoopConfiguration().set(\"fs.s3a.secret.key\", \"SK\")\n",
    "\n",
    "from pyspark.sql.functions import col, current_date, datediff, floor\n",
    "\n"
   ]
  },
  {
   "cell_type": "code",
   "execution_count": 0,
   "metadata": {
    "application/vnd.databricks.v1+cell": {
     "cellMetadata": {},
     "inputWidgets": {},
     "nuid": "ad243a62-7143-43d7-bd1a-e0b55ce7a520",
     "showTitle": false,
     "title": ""
    }
   },
   "outputs": [],
   "source": [
    "subscribers = spark.read.options(header=True, inferSchema=True, delimiter = ',').csv(\"s3://capstone-kanchan/healthcare/subscriber.csv\")\n",
    "subscribers = subscribers.dropDuplicates()\n",
    "subscribers = subscribers.na.fill(\"NA\")\n",
    "subscribers = subscribers.withColumn(\"Age\", floor(datediff(current_date(),col(\"Birth_date\"))/365.25))\n",
    "subscribers = subscribers.filter((subscribers.Age <30) & (subscribers.Subgrp_id != \"NA\"))\n",
    "subscribers = subscribers.select(\"sub _id\",\"first_name\",\"last_name\",\"Subgrp_id\")\n",
    "subscribers = subscribers.withColumnRenamed(\"sub _id\", \"sub_id\")\n"
   ]
  },
  {
   "cell_type": "code",
   "execution_count": 0,
   "metadata": {
    "application/vnd.databricks.v1+cell": {
     "cellMetadata": {},
     "inputWidgets": {},
     "nuid": "4464ef88-f17c-4d0a-bad7-846f69dfeb24",
     "showTitle": false,
     "title": ""
    }
   },
   "outputs": [],
   "source": [
    "subscribers.write.format(\"redshift\").option(\"url\", \"jdbc:redshift://5439/dev\").\\\n",
    "   option(\"dbtable\", \"capstone.subscribersLess30\").\\\n",
    "   option(\"aws_iam_role\", \"arn:aw:role/Redshift_admin\").\\\n",
    "   option(\"tempdir\", \"s3a://capstone-kanchan/temp/\").\\\n",
    "   option(\"user\", \"admin\").\\\n",
    "   option(\"password\", \"PW\").save()"
   ]
  }
 ],
 "metadata": {
  "application/vnd.databricks.v1+notebook": {
   "dashboards": [],
   "environmentMetadata": null,
   "language": "python",
   "notebookMetadata": {
    "pythonIndentUnit": 4
   },
   "notebookName": "SubscribersAgeLessThan30",
   "widgets": {}
  }
 },
 "nbformat": 4,
 "nbformat_minor": 0
}
