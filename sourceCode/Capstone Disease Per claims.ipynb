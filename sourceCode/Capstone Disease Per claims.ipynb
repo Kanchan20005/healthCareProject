{
 "cells": [
  {
   "cell_type": "code",
   "execution_count": 0,
   "metadata": {
    "application/vnd.databricks.v1+cell": {
     "cellMetadata": {
      "byteLimit": 2048000,
      "rowLimit": 10000
     },
     "inputWidgets": {},
     "nuid": "6cc27e7e-ab7d-47b9-8f85-91529afff6bf",
     "showTitle": false,
     "title": ""
    }
   },
   "outputs": [],
   "source": [
    "# Which disease has a maximum number of claims.\n",
    "from pyspark.sql import Window\n",
    "from pyspark.sql.functions import rank, dense_rank,col"
   ]
  },
  {
   "cell_type": "code",
   "execution_count": 0,
   "metadata": {
    "application/vnd.databricks.v1+cell": {
     "cellMetadata": {},
     "inputWidgets": {},
     "nuid": "c9def553-9260-4505-860e-f41403207797",
     "showTitle": false,
     "title": ""
    }
   },
   "outputs": [],
   "source": [
    "spark.sparkContext._jsc.hadoopConfiguration().set(\"fs.s3a.access.key\", \"AK\")\n",
    "spark.sparkContext._jsc.hadoopConfiguration().set(\"fs.s3a.secret.key\", \"SK\")\n"
   ]
  },
  {
   "cell_type": "code",
   "execution_count": 0,
   "metadata": {
    "application/vnd.databricks.v1+cell": {
     "cellMetadata": {},
     "inputWidgets": {},
     "nuid": "e8dad4f9-59d0-47ee-82db-191bece0d80d",
     "showTitle": false,
     "title": ""
    }
   },
   "outputs": [],
   "source": [
    "salesman = spark.read.options(header=True, inferSchema=True, delimiter = '|').json(\"s3://capstone-kanchan/healthcare/claims.json\")\n",
    "salesman = salesman.dropDuplicates()\n",
    "grouped = salesman.groupBy(salesman.disease_name).count()\n",
    "grouped_ranked = grouped.withColumn(\"rank\",dense_rank().over(Window.partitionBy().orderBy(col(\"count\").desc())))\n",
    "grouped_ranked = grouped_ranked.filter(grouped_ranked.rank ==1)\n"
   ]
  },
  {
   "cell_type": "code",
   "execution_count": 0,
   "metadata": {
    "application/vnd.databricks.v1+cell": {
     "cellMetadata": {},
     "inputWidgets": {},
     "nuid": "cfc79e72-2dd7-4680-a114-848d06aa326f",
     "showTitle": false,
     "title": ""
    }
   },
   "outputs": [],
   "source": [
    "grouped_ranked.select(\"disease_name\",\"count\").write.format(\"redshift\").option(\"url\", \"jdbc:redshift://redshift-serverless.amazonaws.com:5439/dev\").\\\n",
    "   option(\"dbtable\", \"capstone.max_claims_per_disease\").\\\n",
    "   option(\"aws_iam_role\", \"arn:aws:iam::Redshift_admin\").\\\n",
    "   option(\"tempdir\", \"s3a://capstone-kanchan/temp/\").\\\n",
    "   option(\"user\", \"admin\").\\\n",
    "   option(\"password\", \"PW\").save()"
   ]
  }
 ],
 "metadata": {
  "application/vnd.databricks.v1+notebook": {
   "dashboards": [],
   "environmentMetadata": null,
   "language": "python",
   "notebookMetadata": {
    "pythonIndentUnit": 4
   },
   "notebookName": "Capstone Disease Per claims",
   "widgets": {}
  }
 },
 "nbformat": 4,
 "nbformat_minor": 0
}
