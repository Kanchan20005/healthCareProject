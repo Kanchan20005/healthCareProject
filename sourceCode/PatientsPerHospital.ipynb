{
 "cells": [
  {
   "cell_type": "code",
   "execution_count": 0,
   "metadata": {
    "application/vnd.databricks.v1+cell": {
     "cellMetadata": {
      "byteLimit": 2048000,
      "rowLimit": 10000
     },
     "inputWidgets": {},
     "nuid": "71e3888c-5b35-44db-a224-4728066c40e0",
     "showTitle": false,
     "title": ""
    }
   },
   "outputs": [],
   "source": [
    "#Find out hospital which serve most number of patients\n",
    "from pyspark.sql import Window\n",
    "from pyspark.sql.functions import rank, dense_rank,col"
   ]
  },
  {
   "cell_type": "code",
   "execution_count": 0,
   "metadata": {
    "application/vnd.databricks.v1+cell": {
     "cellMetadata": {},
     "inputWidgets": {},
     "nuid": "d47c4642-2353-4989-972d-e31067b8a05a",
     "showTitle": false,
     "title": ""
    }
   },
   "outputs": [],
   "source": [
    "spark.sparkContext._jsc.hadoopConfiguration().set(\"fs.s3a.access.key\", \"AK\")\n",
    "spark.sparkContext._jsc.hadoopConfiguration().set(\"fs.s3a.secret.key\", \"SK\")"
   ]
  },
  {
   "cell_type": "code",
   "execution_count": 0,
   "metadata": {
    "application/vnd.databricks.v1+cell": {
     "cellMetadata": {},
     "inputWidgets": {},
     "nuid": "1267bcca-e1d2-4157-8885-8ada7d428ccf",
     "showTitle": false,
     "title": ""
    }
   },
   "outputs": [],
   "source": [
    "Patient_records = spark.read.options(header=True, inferSchema=True, delimiter = ',').csv(\"s3://capstone-kanchan/healthcare/Patient_records.csv\")\n",
    "hospital = spark.read.options(header=True, inferSchema=True, delimiter = ',').csv(\"s3://capstone-kanchan/healthcare/hospital.csv\")"
   ]
  },
  {
   "cell_type": "code",
   "execution_count": 0,
   "metadata": {
    "application/vnd.databricks.v1+cell": {
     "cellMetadata": {},
     "inputWidgets": {},
     "nuid": "db7b1446-68b7-477b-8877-d48f9ca7e80f",
     "showTitle": false,
     "title": ""
    }
   },
   "outputs": [],
   "source": [
    "Patient_records = Patient_records.dropDuplicates()\n",
    "Patient_records_grouped = Patient_records.groupBy(\"hospital_id\").count()\n",
    "\n",
    "Patient_hospital = hospital.join(Patient_records_grouped, Patient_records_grouped.hospital_id == hospital.Hospital_id, \"inner\")\n",
    "Patient_hospital = Patient_hospital.select(hospital.Hospital_id,\"Hospital_name\",\"count\").orderBy(\"count\", ascending=False)\n",
    "Patient_hospital = Patient_hospital.withColumnRenamed(\"count\", \"PatientPerHospital\")\n",
    "\n",
    "Patient_hospital = Patient_hospital.withColumn(\"rank\",dense_rank().over(Window.partitionBy().orderBy(col(\"PatientPerHospital\").desc())))\n",
    "Patient_hospital = Patient_hospital.filter(Patient_hospital.rank ==1)\n",
    "Patient_hospital = Patient_hospital.select(\"Hospital_id\",\"Hospital_name\",\"PatientPerHospital\")"
   ]
  },
  {
   "cell_type": "code",
   "execution_count": 0,
   "metadata": {
    "application/vnd.databricks.v1+cell": {
     "cellMetadata": {},
     "inputWidgets": {},
     "nuid": "f316200a-e625-4817-a07e-37c837c45b71",
     "showTitle": false,
     "title": ""
    }
   },
   "outputs": [],
   "source": [
    "Patient_hospital.write.format(\"redshift\").option(\"url\", \"jdbc:redshift:/dev\").\\\n",
    "   option(\"dbtable\", \"capstone.PatientPerHospital\").\\\n",
    "   option(\"aws_iam_role\", \"arn:aws:iam/Redshift_admin\").\\\n",
    "   option(\"tempdir\", \"s3a://capstone-kanchan/temp/\").\\\n",
    "   option(\"user\", \"admin\").\\\n",
    "   option(\"password\", \"Pw\").save()"
   ]
  }
 ],
 "metadata": {
  "application/vnd.databricks.v1+notebook": {
   "dashboards": [],
   "environmentMetadata": null,
   "language": "python",
   "notebookMetadata": {
    "pythonIndentUnit": 4
   },
   "notebookName": "PatientsPerHospital",
   "widgets": {}
  }
 },
 "nbformat": 4,
 "nbformat_minor": 0
}
